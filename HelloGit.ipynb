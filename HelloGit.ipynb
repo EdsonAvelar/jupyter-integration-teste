{
 "cells": [
  {
   "cell_type": "code",
   "execution_count": null,
   "id": "ef66adfc-416f-4da3-bea4-6440f3922a67",
   "metadata": {},
   "outputs": [],
   "source": [
    "print(\"Hello Git\")"
   ]
  },
  {
   "cell_type": "code",
   "execution_count": 1,
   "id": "4e984914-4720-4969-826d-bd9deeae5800",
   "metadata": {},
   "outputs": [],
   "source": [
    "import pandas as pd"
   ]
  },
  {
   "cell_type": "code",
   "execution_count": null,
   "id": "d77c2f12-6a5e-4f9e-980e-2a4606fcff86",
   "metadata": {},
   "outputs": [],
   "source": []
  }
 ],
 "metadata": {
  "kernelspec": {
   "display_name": "Python 3 (ipykernel)",
   "language": "python",
   "name": "python3"
  },
  "language_info": {
   "codemirror_mode": {
    "name": "ipython",
    "version": 3
   },
   "file_extension": ".py",
   "mimetype": "text/x-python",
   "name": "python",
   "nbconvert_exporter": "python",
   "pygments_lexer": "ipython3",
   "version": "3.11.6"
  }
 },
 "nbformat": 4,
 "nbformat_minor": 5
}
